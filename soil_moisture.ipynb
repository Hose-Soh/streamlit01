{
 "cells": [
  {
   "cell_type": "code",
   "execution_count": 3,
   "metadata": {},
   "outputs": [],
   "source": [
    "import ee\n",
    "import geemap\n",
    "import streamlit as st\n",
    "\n"
   ]
  },
  {
   "cell_type": "code",
   "execution_count": 4,
   "metadata": {},
   "outputs": [
    {
     "data": {
      "text/html": [
       "<p>To authorize access needed by Earth Engine, open the following\n",
       "        URL in a web browser and follow the instructions:</p>\n",
       "        <p><a href=https://code.earthengine.google.com/client-auth?scopes=https%3A//www.googleapis.com/auth/earthengine%20https%3A//www.googleapis.com/auth/devstorage.full_control&request_id=bSKzPd52vk_50zF-ZJcVKNe85BWdiQSue5IXS1sOsro&tc=K3B2ds10SMAP0j8ouWbTpp8FU_d_tuXVIEANglk_zz4&cc=NhesBWYoKD9raMFahMge_-L-HTm7T_X1AL5aqxrgh9k>https://code.earthengine.google.com/client-auth?scopes=https%3A//www.googleapis.com/auth/earthengine%20https%3A//www.googleapis.com/auth/devstorage.full_control&request_id=bSKzPd52vk_50zF-ZJcVKNe85BWdiQSue5IXS1sOsro&tc=K3B2ds10SMAP0j8ouWbTpp8FU_d_tuXVIEANglk_zz4&cc=NhesBWYoKD9raMFahMge_-L-HTm7T_X1AL5aqxrgh9k</a></p>\n",
       "        <p>The authorization workflow will generate a code, which you should paste in the box below.</p>\n",
       "        "
      ],
      "text/plain": [
       "<IPython.core.display.HTML object>"
      ]
     },
     "metadata": {},
     "output_type": "display_data"
    },
    {
     "name": "stdout",
     "output_type": "stream",
     "text": [
      "\n",
      "Successfully saved authorization token.\n"
     ]
    },
    {
     "data": {
      "application/javascript": "\n        var code = IPython.notebook.insert_cell_below('code');\n        code.set_text(atob(\"ZGF0YXNldCA9IGVlLkltYWdlQ29sbGVjdGlvbignTkFTQV9VU0RBL0hTTC9TTUFQMTBLTV9zb2lsX21vaXN0dXJlJykgXAogICAgICAgICAgICAgICAgICAuZmlsdGVyKGVlLkZpbHRlci5kYXRlKCcyMDE3LTA0LTAxJywgJzIwMTctMDQtMzAnKSkKc29pbE1vaXN0dXJlID0gZGF0YXNldC5zZWxlY3QoJ3NzbScpCnNvaWxNb2lzdHVyZVZpcyA9IHsKICAnbWluJzogMC4wLAogICdtYXgnOiAyOC4wLAogICdwYWxldHRlJzogWycwMzAwZmYnLCAnNDE4NTA0JywgJ2VmZmYwNycsICdlZmZmMDcnLCAnZmYwMzAzJ10sCn0KTWFwLnNldENlbnRlcigtNi43NDYsIDQ2LjUyOSwgMikKTWFwLmFkZExheWVyKHNvaWxNb2lzdHVyZSwgc29pbE1vaXN0dXJlVmlzLCAnU29pbCBNb2lzdHVyZScpCg==\"));\n    ",
      "text/plain": [
       "<IPython.core.display.Javascript object>"
      ]
     },
     "metadata": {},
     "output_type": "display_data"
    }
   ],
   "source": [
    "Map = geemap.Map()\n"
   ]
  },
  {
   "cell_type": "code",
   "execution_count": 5,
   "metadata": {},
   "outputs": [
    {
     "data": {
      "application/vnd.jupyter.widget-view+json": {
       "model_id": "e16c93000a3843289ce3bc40601e370c",
       "version_major": 2,
       "version_minor": 0
      },
      "text/plain": [
       "Map(center=[20, 0], controls=(WidgetControl(options=['position', 'transparent_bg'], widget=HBox(children=(Togg…"
      ]
     },
     "metadata": {},
     "output_type": "display_data"
    }
   ],
   "source": [
    "Map"
   ]
  },
  {
   "cell_type": "code",
   "execution_count": 15,
   "metadata": {},
   "outputs": [],
   "source": [
    "dataset = ee.ImageCollection('NASA_USDA/HSL/SMAP10KM_soil_moisture') \n",
    "\n",
    "soilMoisture = dataset.select('ssm')\n",
    "soilMoistureVis = {\n",
    "  'min': 0.0,\n",
    "  'max': 28.0,\n",
    "  'palette': ['0300ff', '418504', 'efff07', 'efff07', 'ff0303'],\n",
    "}\n",
    "Map.setCenter(-6.746, 46.529, 2)\n",
    "Map.addLayer(soilMoisture, soilMoistureVis, 'Soil Moisture')\n"
   ]
  },
  {
   "cell_type": "code",
   "execution_count": 16,
   "metadata": {},
   "outputs": [
    {
     "data": {
      "text/html": [
       "<div><style>:root {\n",
       "  --font-color-primary: var(--jp-content-font-color0, rgba(0, 0, 0, 1));\n",
       "  --font-color-secondary: var(--jp-content-font-color2, rgba(0, 0, 0, 0.6));\n",
       "  --font-color-accent: rgba(123, 31, 162, 1);\n",
       "  --border-color: var(--jp-border-color2, #e0e0e0);\n",
       "  --background-color: var(--jp-layout-color0, white);\n",
       "  --background-color-row-even: var(--jp-layout-color1, white);\n",
       "  --background-color-row-odd: var(--jp-layout-color2, #eeeeee);\n",
       "}\n",
       "\n",
       "html[theme=\"dark\"],\n",
       "body[data-theme=\"dark\"],\n",
       "body.vscode-dark {\n",
       "  --font-color-primary: rgba(255, 255, 255, 1);\n",
       "  --font-color-secondary: rgba(255, 255, 255, 0.6);\n",
       "  --font-color-accent: rgb(173, 132, 190);\n",
       "  --border-color: #2e2e2e;\n",
       "  --background-color: #111111;\n",
       "  --background-color-row-even: #111111;\n",
       "  --background-color-row-odd: #313131;\n",
       "}\n",
       "\n",
       ".ee {\n",
       "  padding: 1em;\n",
       "  line-height: 1.5em;\n",
       "  min-width: 300px;\n",
       "  max-width: 1200px;\n",
       "  overflow-y: scroll;\n",
       "  max-height: 600px;\n",
       "  border: 1px solid var(--border-color);\n",
       "  font-family: monospace;\n",
       "}\n",
       "\n",
       ".ee li {\n",
       "  list-style-type: none;\n",
       "}\n",
       "\n",
       ".ee ul {\n",
       "  padding-left: 1.5em !important;\n",
       "  margin: 0;\n",
       "}\n",
       "\n",
       ".ee > ul {\n",
       "  padding-left: 0 !important;\n",
       "}\n",
       "\n",
       ".ee-open,\n",
       ".ee-shut {\n",
       "  color: var(--font-color-secondary);\n",
       "  cursor: pointer;\n",
       "  margin: 0;\n",
       "}\n",
       "\n",
       ".ee-open:hover,\n",
       ".ee-shut:hover {\n",
       "  color: var(--font-color-primary);\n",
       "}\n",
       "\n",
       ".ee-k {\n",
       "  color: var(--font-color-accent);\n",
       "  margin-right: 6px;\n",
       "}\n",
       "\n",
       ".ee-v {\n",
       "  color: var(--font-color-primary);\n",
       "}\n",
       "\n",
       ".ee-toggle {\n",
       "  display: none;\n",
       "}\n",
       "\n",
       ".ee-shut + ul {\n",
       "  display: none;\n",
       "}\n",
       "\n",
       ".ee-open + ul {\n",
       "  display: block;\n",
       "}\n",
       "\n",
       ".ee-shut::before {\n",
       "  display: inline-block;\n",
       "  content: \"▼\";\n",
       "  margin-right: 6px;\n",
       "  transform: rotate(-90deg);\n",
       "  transition: transform 0.2s;\n",
       "}\n",
       "\n",
       ".ee-open::before {\n",
       "  transform: rotate(0deg);\n",
       "  display: inline-block;\n",
       "  content: \"▼\";\n",
       "  margin-right: 6px;\n",
       "  transition: transform 0.2s;\n",
       "}\n",
       "</style><div class='ee'><ul><li><span class='ee-v'>894</span></li></ul></div><script>function toggleHeader() {\n",
       "    const parent = this.parentElement;\n",
       "    parent.className = parent.className === \"ee-open\" ? \"ee-shut\" : \"ee-open\";\n",
       "}\n",
       "\n",
       "for (let c of document.getElementsByClassName(\"ee-toggle\")) {\n",
       "    c.onclick = toggleHeader;\n",
       "}</script></div>"
      ],
      "text/plain": [
       "<ee.ee_number.Number at 0x2664d2b8dc0>"
      ]
     },
     "execution_count": 16,
     "metadata": {},
     "output_type": "execute_result"
    }
   ],
   "source": [
    "dataset.size()"
   ]
  },
  {
   "cell_type": "code",
   "execution_count": 14,
   "metadata": {},
   "outputs": [
    {
     "data": {
      "text/html": [
       "<div><style>:root {\n",
       "  --font-color-primary: var(--jp-content-font-color0, rgba(0, 0, 0, 1));\n",
       "  --font-color-secondary: var(--jp-content-font-color2, rgba(0, 0, 0, 0.6));\n",
       "  --font-color-accent: rgba(123, 31, 162, 1);\n",
       "  --border-color: var(--jp-border-color2, #e0e0e0);\n",
       "  --background-color: var(--jp-layout-color0, white);\n",
       "  --background-color-row-even: var(--jp-layout-color1, white);\n",
       "  --background-color-row-odd: var(--jp-layout-color2, #eeeeee);\n",
       "}\n",
       "\n",
       "html[theme=\"dark\"],\n",
       "body[data-theme=\"dark\"],\n",
       "body.vscode-dark {\n",
       "  --font-color-primary: rgba(255, 255, 255, 1);\n",
       "  --font-color-secondary: rgba(255, 255, 255, 0.6);\n",
       "  --font-color-accent: rgb(173, 132, 190);\n",
       "  --border-color: #2e2e2e;\n",
       "  --background-color: #111111;\n",
       "  --background-color-row-even: #111111;\n",
       "  --background-color-row-odd: #313131;\n",
       "}\n",
       "\n",
       ".ee {\n",
       "  padding: 1em;\n",
       "  line-height: 1.5em;\n",
       "  min-width: 300px;\n",
       "  max-width: 1200px;\n",
       "  overflow-y: scroll;\n",
       "  max-height: 600px;\n",
       "  border: 1px solid var(--border-color);\n",
       "  font-family: monospace;\n",
       "}\n",
       "\n",
       ".ee li {\n",
       "  list-style-type: none;\n",
       "}\n",
       "\n",
       ".ee ul {\n",
       "  padding-left: 1.5em !important;\n",
       "  margin: 0;\n",
       "}\n",
       "\n",
       ".ee > ul {\n",
       "  padding-left: 0 !important;\n",
       "}\n",
       "\n",
       ".ee-open,\n",
       ".ee-shut {\n",
       "  color: var(--font-color-secondary);\n",
       "  cursor: pointer;\n",
       "  margin: 0;\n",
       "}\n",
       "\n",
       ".ee-open:hover,\n",
       ".ee-shut:hover {\n",
       "  color: var(--font-color-primary);\n",
       "}\n",
       "\n",
       ".ee-k {\n",
       "  color: var(--font-color-accent);\n",
       "  margin-right: 6px;\n",
       "}\n",
       "\n",
       ".ee-v {\n",
       "  color: var(--font-color-primary);\n",
       "}\n",
       "\n",
       ".ee-toggle {\n",
       "  display: none;\n",
       "}\n",
       "\n",
       ".ee-shut + ul {\n",
       "  display: none;\n",
       "}\n",
       "\n",
       ".ee-open + ul {\n",
       "  display: block;\n",
       "}\n",
       "\n",
       ".ee-shut::before {\n",
       "  display: inline-block;\n",
       "  content: \"▼\";\n",
       "  margin-right: 6px;\n",
       "  transform: rotate(-90deg);\n",
       "  transition: transform 0.2s;\n",
       "}\n",
       "\n",
       ".ee-open::before {\n",
       "  transform: rotate(0deg);\n",
       "  display: inline-block;\n",
       "  content: \"▼\";\n",
       "  margin-right: 6px;\n",
       "  transition: transform 0.2s;\n",
       "}\n",
       "</style><div class='ee'><ul><li><label class='ee-shut'>List (9 elements)<input type='checkbox' class='ee-toggle'></label><ul><li><span class='ee-k'>0:</span><span class='ee-v'>NASA_USDA_SMAP_SM20170403_20170405</span></li><li><span class='ee-k'>1:</span><span class='ee-v'>NASA_USDA_SMAP_SM20170406_20170408</span></li><li><span class='ee-k'>2:</span><span class='ee-v'>NASA_USDA_SMAP_SM20170409_20170411</span></li><li><span class='ee-k'>3:</span><span class='ee-v'>NASA_USDA_SMAP_SM20170412_20170414</span></li><li><span class='ee-k'>4:</span><span class='ee-v'>NASA_USDA_SMAP_SM20170415_20170417</span></li><li><span class='ee-k'>5:</span><span class='ee-v'>NASA_USDA_SMAP_SM20170418_20170420</span></li><li><span class='ee-k'>6:</span><span class='ee-v'>NASA_USDA_SMAP_SM20170421_20170423</span></li><li><span class='ee-k'>7:</span><span class='ee-v'>NASA_USDA_SMAP_SM20170424_20170426</span></li><li><span class='ee-k'>8:</span><span class='ee-v'>NASA_USDA_SMAP_SM20170427_20170429</span></li></ul></li></ul></div><script>function toggleHeader() {\n",
       "    const parent = this.parentElement;\n",
       "    parent.className = parent.className === \"ee-open\" ? \"ee-shut\" : \"ee-open\";\n",
       "}\n",
       "\n",
       "for (let c of document.getElementsByClassName(\"ee-toggle\")) {\n",
       "    c.onclick = toggleHeader;\n",
       "}</script></div>"
      ],
      "text/plain": [
       "<ee.ee_list.List at 0x2664d3267f0>"
      ]
     },
     "execution_count": 14,
     "metadata": {},
     "output_type": "execute_result"
    }
   ],
   "source": [
    "dataset.aggregate_array(\"system:index\")\n"
   ]
  },
  {
   "cell_type": "code",
   "execution_count": 11,
   "metadata": {},
   "outputs": [
    {
     "data": {
      "application/vnd.jupyter.widget-view+json": {
       "model_id": "98008b581cde4128a04a46853a6f84ed",
       "version_major": 2,
       "version_minor": 0
      },
      "text/plain": [
       "Map(center=[20, 0], controls=(WidgetControl(options=['position', 'transparent_bg'], widget=HBox(children=(Togg…"
      ]
     },
     "metadata": {},
     "output_type": "display_data"
    }
   ],
   "source": [
    "Map = geemap.Map()\n",
    "Map"
   ]
  },
  {
   "cell_type": "code",
   "execution_count": 21,
   "metadata": {},
   "outputs": [],
   "source": [
    "image = dataset.filterDate('2015-08-01', '2022-09-01').first()\n",
    "region = Map.user_roi # Draw a polygon on the map\n",
    "if region is None:\n",
    "    region = ee.Geometry.BBox(-99.957, 46.8947, -99.278, 47.1531)\n",
    "\n",
    "soilMoisture = image.select('ssm')\n",
    "soilMoistureVis = {\n",
    "  'min': 0.0,\n",
    "  'max': 28.0,\n",
    "  'palette': ['0300ff', '418504', 'efff07', 'efff07', 'ff0303'],\n",
    "}\n",
    "Map.centerObject(region)"
   ]
  },
  {
   "cell_type": "code",
   "execution_count": 22,
   "metadata": {},
   "outputs": [
    {
     "data": {
      "application/vnd.plotly.v1+json": {
       "config": {
        "plotlyServerURL": "https://plot.ly"
       },
       "data": [
        {
         "alignmentgroup": "True",
         "hovertemplate": "Month=%{x}<br>Area (ha)=%{y}<extra></extra>",
         "legendgroup": "",
         "marker": {
          "color": "#000001",
          "pattern": {
           "shape": ""
          }
         },
         "name": "",
         "offsetgroup": "",
         "orientation": "v",
         "showlegend": false,
         "textposition": "auto",
         "type": "bar",
         "x": [
          "1984_04",
          "1984_05",
          "1984_06",
          "1984_07",
          "1984_08",
          "1984_09",
          "1984_10",
          "1984_11",
          "1984_12",
          "1985_01",
          "1985_02",
          "1985_03",
          "1985_04",
          "1985_05",
          "1985_06",
          "1985_07",
          "1985_08",
          "1985_09",
          "1985_10",
          "1985_11",
          "1985_12",
          "1986_01",
          "1986_02",
          "1986_03",
          "1986_04",
          "1986_05",
          "1986_06",
          "1986_07",
          "1986_08",
          "1986_09",
          "1986_10",
          "1986_11",
          "1986_12",
          "1987_01",
          "1987_02",
          "1987_03",
          "1987_04",
          "1987_05",
          "1987_06",
          "1987_07",
          "1987_08",
          "1987_09",
          "1987_10",
          "1987_11",
          "1987_12",
          "1988_01",
          "1988_02",
          "1988_03",
          "1988_04",
          "1988_05",
          "1988_06",
          "1988_07",
          "1988_08",
          "1988_09",
          "1988_10",
          "1988_11",
          "1988_12",
          "1989_01",
          "1989_02",
          "1989_03",
          "1989_04",
          "1989_05",
          "1989_06",
          "1989_07",
          "1989_08",
          "1989_09",
          "1989_10",
          "1989_11",
          "1989_12",
          "1990_01",
          "1990_02",
          "1990_03",
          "1990_04",
          "1990_05",
          "1990_06",
          "1990_07",
          "1990_08",
          "1990_09",
          "1990_10",
          "1990_11",
          "1990_12",
          "1991_01",
          "1991_02",
          "1991_03",
          "1991_04",
          "1991_05",
          "1991_06",
          "1991_07",
          "1991_08",
          "1991_09",
          "1991_10",
          "1991_11",
          "1991_12",
          "1992_01",
          "1992_02",
          "1992_03",
          "1992_04",
          "1992_05",
          "1992_06",
          "1992_07",
          "1992_08",
          "1992_09",
          "1992_10",
          "1992_11",
          "1992_12",
          "1993_01",
          "1993_02",
          "1993_03",
          "1993_04",
          "1993_05",
          "1993_06",
          "1993_07",
          "1993_08",
          "1993_09",
          "1993_10",
          "1993_11",
          "1993_12",
          "1994_01",
          "1994_02",
          "1994_03",
          "1994_04",
          "1994_05",
          "1994_06",
          "1994_07",
          "1994_08",
          "1994_09",
          "1994_10",
          "1994_11",
          "1994_12",
          "1995_01",
          "1995_02",
          "1995_03",
          "1995_04",
          "1995_05",
          "1995_06",
          "1995_07",
          "1995_08",
          "1995_09",
          "1995_10",
          "1995_11",
          "1995_12",
          "1996_01",
          "1996_02",
          "1996_03",
          "1996_04",
          "1996_05",
          "1996_06",
          "1996_07",
          "1996_08",
          "1996_09",
          "1996_10",
          "1996_11",
          "1996_12",
          "1997_01",
          "1997_02",
          "1997_03",
          "1997_04",
          "1997_05",
          "1997_06",
          "1997_07",
          "1997_08",
          "1997_09",
          "1997_10",
          "1997_11",
          "1997_12",
          "1998_01",
          "1998_02",
          "1998_03",
          "1998_04",
          "1998_05",
          "1998_06",
          "1998_07",
          "1998_08",
          "1998_09",
          "1998_10",
          "1998_11",
          "1998_12",
          "1999_01",
          "1999_02",
          "1999_03",
          "1999_04",
          "1999_05",
          "1999_06",
          "1999_07",
          "1999_08",
          "1999_09",
          "1999_10",
          "1999_11",
          "1999_12",
          "2000_01",
          "2000_02",
          "2000_03",
          "2000_04",
          "2000_05",
          "2000_06",
          "2000_07",
          "2000_08",
          "2000_09",
          "2000_10",
          "2000_11",
          "2000_12",
          "2001_01",
          "2001_02",
          "2001_03",
          "2001_04",
          "2001_05",
          "2001_06",
          "2001_07",
          "2001_08",
          "2001_09",
          "2001_10",
          "2001_11",
          "2001_12",
          "2002_01",
          "2002_02",
          "2002_03",
          "2002_04",
          "2002_05",
          "2002_06",
          "2002_07",
          "2002_08",
          "2002_09",
          "2002_10",
          "2002_11",
          "2002_12",
          "2003_01",
          "2003_02",
          "2003_03",
          "2003_04",
          "2003_05",
          "2003_06",
          "2003_07",
          "2003_08",
          "2003_09",
          "2003_10",
          "2003_11",
          "2003_12",
          "2004_01",
          "2004_02",
          "2004_03",
          "2004_04",
          "2004_05",
          "2004_06",
          "2004_07",
          "2004_08",
          "2004_09",
          "2004_10",
          "2004_11",
          "2004_12",
          "2005_01",
          "2005_02",
          "2005_03",
          "2005_04",
          "2005_05",
          "2005_06",
          "2005_07",
          "2005_08",
          "2005_09",
          "2005_10",
          "2005_11",
          "2005_12",
          "2006_01",
          "2006_02",
          "2006_03",
          "2006_04",
          "2006_05",
          "2006_06",
          "2006_07",
          "2006_08",
          "2006_09",
          "2006_10",
          "2006_11",
          "2006_12",
          "2007_01",
          "2007_02",
          "2007_03",
          "2007_04",
          "2007_05",
          "2007_06",
          "2007_07",
          "2007_08",
          "2007_09",
          "2007_10",
          "2007_11",
          "2007_12",
          "2008_01",
          "2008_02",
          "2008_03",
          "2008_04",
          "2008_05",
          "2008_06",
          "2008_07",
          "2008_08",
          "2008_09",
          "2008_10",
          "2008_11",
          "2008_12",
          "2009_01",
          "2009_02",
          "2009_03",
          "2009_04",
          "2009_05",
          "2009_06",
          "2009_07",
          "2009_08",
          "2009_09",
          "2009_10",
          "2009_11",
          "2009_12",
          "2010_01",
          "2010_02",
          "2010_03",
          "2010_04",
          "2010_05",
          "2010_06",
          "2010_07",
          "2010_08",
          "2010_09",
          "2010_10",
          "2010_11",
          "2010_12",
          "2011_01",
          "2011_02",
          "2011_03",
          "2011_04",
          "2011_05",
          "2011_06",
          "2011_07",
          "2011_08",
          "2011_09",
          "2011_10",
          "2011_11",
          "2011_12",
          "2012_01",
          "2012_02",
          "2012_03",
          "2012_04",
          "2012_05",
          "2012_06",
          "2012_07",
          "2012_08",
          "2012_09",
          "2012_10",
          "2012_11",
          "2012_12",
          "2013_01",
          "2013_02",
          "2013_03",
          "2013_04",
          "2013_05",
          "2013_06",
          "2013_07",
          "2013_08",
          "2013_09",
          "2013_10",
          "2013_11",
          "2013_12",
          "2014_01",
          "2014_02",
          "2014_03",
          "2014_04",
          "2014_05",
          "2014_06",
          "2014_07",
          "2014_08",
          "2014_09",
          "2014_10",
          "2014_11",
          "2014_12",
          "2015_01",
          "2015_02",
          "2015_03",
          "2015_04",
          "2015_05",
          "2015_06",
          "2015_07",
          "2015_08",
          "2015_09",
          "2015_10",
          "2015_11",
          "2015_12",
          "2016_01",
          "2016_02",
          "2016_03",
          "2016_04",
          "2016_05",
          "2016_06",
          "2016_07",
          "2016_08",
          "2016_09",
          "2016_10",
          "2016_11",
          "2016_12",
          "2017_01",
          "2017_02",
          "2017_03",
          "2017_04",
          "2017_05",
          "2017_06",
          "2017_07",
          "2017_08",
          "2017_09",
          "2017_10",
          "2017_11",
          "2017_12",
          "2018_01",
          "2018_02",
          "2018_03",
          "2018_04",
          "2018_05",
          "2018_06",
          "2018_07",
          "2018_08",
          "2018_09",
          "2018_10",
          "2018_11",
          "2018_12",
          "2019_01",
          "2019_02",
          "2019_03",
          "2019_04",
          "2019_05",
          "2019_06",
          "2019_07",
          "2019_08",
          "2019_09",
          "2019_10",
          "2019_11",
          "2019_12",
          "2020_01",
          "2020_02",
          "2020_03",
          "2020_04",
          "2020_05",
          "2020_06",
          "2020_07",
          "2020_08",
          "2020_09",
          "2020_10",
          "2020_11",
          "2020_12",
          "2021_01",
          "2021_02",
          "2021_03",
          "2021_04",
          "2021_05",
          "2021_06",
          "2021_07",
          "2021_08",
          "2021_09",
          "2021_10",
          "2021_11",
          "2021_12"
         ],
         "xaxis": "x",
         "y": [
          8059.682804120825,
          8046.117311843943,
          7977.432458724957,
          7444.101293590075,
          7272.495382471558,
          6996.099384924706,
          2304.332194998129,
          0,
          0,
          0,
          0,
          2940.467591485747,
          8399.152622987109,
          7803.862282300424,
          0,
          6107.748407294115,
          5423.936729685689,
          4698.856760238151,
          6934.66141446622,
          0,
          0,
          0,
          0,
          5361.476095694286,
          4199.864458088374,
          8884.562430427626,
          7578.96786536752,
          6885.3142156926715,
          7203.357028118073,
          0,
          8234.14132682175,
          0,
          0,
          0,
          0,
          440.3151014084767,
          13836.112457191508,
          10130.971056143126,
          8938.13352413209,
          8632.057217727788,
          5760.844867668735,
          4412.342806065216,
          9491.254398244768,
          0,
          0,
          0,
          0,
          4338.635627330082,
          9856.26540824369,
          8786.12794019262,
          8663.088319544437,
          7783.380107788837,
          7091.131909676513,
          6310.331688210142,
          6517.993688660579,
          0,
          0,
          0,
          0,
          15.431985145718446,
          7487.7620516578445,
          5940.146767205108,
          6444.858863934326,
          5383.7598060203245,
          4743.682400371178,
          5620.492714488177,
          4490.316950874319,
          0,
          0,
          0,
          0,
          0.920222900390625,
          3876.2883083179104,
          4272.324212342193,
          5013.870356736659,
          3837.0306338357404,
          5982.1718301524215,
          5769.8424131104075,
          5417.669348601143,
          0,
          0,
          0,
          0,
          3360.3729695926313,
          5805.402440794359,
          4339.394134864686,
          5639.272199943227,
          5394.062661879123,
          4531.960466262516,
          2526.038957128878,
          4176.127197722906,
          0,
          0,
          0,
          0,
          4480.625009281567,
          4733.076758927631,
          5514.088446212072,
          3044.891060336843,
          3535.81923042633,
          3893.322494063662,
          4541.936716075794,
          4067.393122332142,
          0,
          0,
          0,
          0,
          28.71640160067691,
          7363.494831006289,
          6023.996871064493,
          3316.5123830666134,
          6805.211715153425,
          7339.806383715827,
          7747.899121683058,
          6536.061406651614,
          0,
          0,
          0,
          0,
          1.2866894470214842,
          13882.87397098776,
          12766.069473306048,
          10198.42969510992,
          9645.058109124371,
          9042.72220959611,
          10536.96781411684,
          12131.27542684738,
          0,
          0,
          0,
          0,
          0,
          4343.2488522525255,
          13112.510130303435,
          2078.508523578285,
          1873.8888456571444,
          13686.65359514402,
          14078.831593557477,
          8298.476710956495,
          0,
          0,
          0,
          0,
          1366.9482363260427,
          16769.91431715851,
          16519.070706073708,
          15701.827882185782,
          15439.454621914585,
          15390.855213022149,
          15093.318675304416,
          16823.476254096433,
          0,
          0,
          0,
          0,
          5298.644067556593,
          14396.03249785467,
          14199.3057394849,
          13001.499256135434,
          16744.443559318683,
          16821.454395020897,
          17135.631888987566,
          17568.524057419098,
          0,
          0,
          0,
          0,
          10563.12587150477,
          18842.553338254955,
          17541.63964763109,
          9982.589204567646,
          16804.342154826096,
          16517.479245152495,
          16445.96274479878,
          17633.855446008132,
          0,
          0,
          0,
          0,
          975.0361446784086,
          5253.217143355303,
          18857.63450374484,
          15799.11951585404,
          18416.889561657736,
          18323.28236632314,
          19550.08205765285,
          19977.412911729847,
          0,
          0,
          0,
          0,
          7543.048163054964,
          19228.936982673487,
          20053.175783823233,
          19491.106536337033,
          18859.303460371073,
          19095.436964163542,
          19109.975747530712,
          19792.94809396057,
          0,
          0,
          0,
          0,
          613.3661338748745,
          19973.32757099637,
          18503.482345388897,
          18550.774129033067,
          19016.256630351098,
          19494.1498250645,
          19629.65153372738,
          19927.023180436572,
          0,
          0,
          0,
          0,
          1229.4546438118018,
          2876.3000664011784,
          20328.084893088268,
          18969.09795928411,
          18507.63762512507,
          18311.464806436794,
          18187.477555559955,
          13261.944786778662,
          0,
          0,
          0,
          0,
          7169.9294172379205,
          19353.758034096718,
          19520.950551438982,
          18706.092344754692,
          18184.150175555675,
          16863.922178461755,
          13355.421223122708,
          17259.868876429024,
          0,
          0,
          0,
          0,
          936.512260558078,
          18939.92402430071,
          17387.614934584002,
          16916.593144018327,
          16541.34710882505,
          16088.551850286283,
          17441.903745477648,
          17477.260508565632,
          0,
          0,
          0,
          0,
          4918.799752320301,
          18407.770930398598,
          10843.43331639641,
          17395.615440979913,
          15877.708712292126,
          16762.075378595393,
          16921.918048218402,
          17282.140413548652,
          0,
          0,
          0,
          0,
          2939.312251166823,
          17159.499470664552,
          17048.70181617834,
          15946.356134389789,
          15627.835491952479,
          14729.545401745661,
          15097.356448739662,
          9694.246203452003,
          0,
          0,
          0,
          0,
          6323.884862402564,
          17869.61505527409,
          15154.235366253495,
          16093.902806865055,
          15117.284775252452,
          15434.839205397058,
          15970.801502316755,
          14285.062332945225,
          0,
          0,
          0,
          0,
          667.8384161392589,
          16249.666031271116,
          15190.797623618262,
          15322.724261866308,
          14701.13490696599,
          14701.7968652308,
          14265.918736495538,
          15674.608803919844,
          0,
          0,
          0,
          0,
          0.06126065673828125,
          12438.366419351492,
          18615.280117102713,
          17426.95702880273,
          15724.96182494739,
          15586.984578844862,
          16144.923456649572,
          16735.607908254126,
          0,
          0,
          0,
          0,
          6184.859077575591,
          18744.183149104552,
          18028.320695099475,
          16873.032543561203,
          16535.317393279976,
          16080.432180501299,
          16806.214567917676,
          17352.116039459448,
          0,
          0,
          0,
          0,
          0,
          12972.91840668735,
          19206.27041472212,
          18359.10994814124,
          17717.76730229592,
          17414.52186207534,
          18449.67725770458,
          18665.743618021374,
          0,
          0,
          0,
          0,
          6252.619601897543,
          19163.285361352817,
          16232.14032003051,
          16094.033462830193,
          14338.482145630553,
          16803.9339619046,
          17543.016579996358,
          0,
          0,
          0,
          0,
          0,
          0.12252315673828125,
          18344.22771961093,
          19706.903592199546,
          18983.615298348443,
          18390.064347482607,
          18124.77102624856,
          18355.70558542363,
          14995.94438794092,
          0,
          0,
          0,
          0,
          4008.3716009196924,
          18260.32039703171,
          19867.99440244846,
          6832.227515584732,
          18551.508160430705,
          18055.828827142563,
          18656.81935714108,
          18193.100594698342,
          0,
          0,
          0,
          0,
          6491.213423203435,
          19176.306157689403,
          19570.0249275711,
          18997.094365549492,
          18068.982936113076,
          18424.89571664851,
          18378.908513811817,
          0,
          0,
          0,
          0,
          0,
          19532.392039433656,
          19349.1332151783,
          19084.71099727672,
          18107.5881920722,
          17635.685842579478,
          17972.8956203799,
          17924.865341656525,
          1900.065552588952,
          0,
          0,
          0,
          0,
          15025.290447219624,
          18307.596545281198,
          19119.593434886872,
          18553.51238698583,
          17633.010363788057,
          17657.545216556493,
          17162.99334585369,
          16.079305639648442,
          0,
          0,
          0,
          0,
          0,
          17217.540787957023,
          17961.261348755434,
          17839.819205281463,
          17140.81437974472,
          16769.844519295562,
          17273.064781024845,
          0,
          0,
          0,
          0,
          0,
          1982.6835290128101,
          18553.52700990628,
          18712.166877685122,
          18342.808876243675,
          17820.90424823562,
          17162.050662943624,
          17489.830848275084,
          10208.019174744733,
          0,
          0,
          0,
          0,
          15189.112110661492,
          21386.614783134835,
          21476.48154340522,
          20682.620393343124,
          19088.345316907522,
          19569.98578449331,
          19951.82595864952,
          1515.4087745173879,
          0,
          0,
          0,
          0,
          11866.955420092832,
          20274.427876072034,
          20111.404217624946,
          20294.157308131355,
          18425.12146167615,
          18484.97157139768,
          18675.161885177673,
          18830.876120658475,
          0,
          0
         ],
         "yaxis": "y"
        }
       ],
       "layout": {
        "barmode": "relative",
        "legend": {
         "tracegroupgap": 0
        },
        "margin": {
         "t": 60
        },
        "template": {
         "data": {
          "candlestick": [
           {
            "decreasing": {
             "line": {
              "color": "#000033"
             }
            },
            "increasing": {
             "line": {
              "color": "#000032"
             }
            },
            "type": "candlestick"
           }
          ],
          "contour": [
           {
            "colorscale": [
             [
              0,
              "#000011"
             ],
             [
              0.1111111111111111,
              "#000012"
             ],
             [
              0.2222222222222222,
              "#000013"
             ],
             [
              0.3333333333333333,
              "#000014"
             ],
             [
              0.4444444444444444,
              "#000015"
             ],
             [
              0.5555555555555556,
              "#000016"
             ],
             [
              0.6666666666666666,
              "#000017"
             ],
             [
              0.7777777777777778,
              "#000018"
             ],
             [
              0.8888888888888888,
              "#000019"
             ],
             [
              1,
              "#000020"
             ]
            ],
            "type": "contour"
           }
          ],
          "contourcarpet": [
           {
            "colorscale": [
             [
              0,
              "#000011"
             ],
             [
              0.1111111111111111,
              "#000012"
             ],
             [
              0.2222222222222222,
              "#000013"
             ],
             [
              0.3333333333333333,
              "#000014"
             ],
             [
              0.4444444444444444,
              "#000015"
             ],
             [
              0.5555555555555556,
              "#000016"
             ],
             [
              0.6666666666666666,
              "#000017"
             ],
             [
              0.7777777777777778,
              "#000018"
             ],
             [
              0.8888888888888888,
              "#000019"
             ],
             [
              1,
              "#000020"
             ]
            ],
            "type": "contourcarpet"
           }
          ],
          "heatmap": [
           {
            "colorscale": [
             [
              0,
              "#000011"
             ],
             [
              0.1111111111111111,
              "#000012"
             ],
             [
              0.2222222222222222,
              "#000013"
             ],
             [
              0.3333333333333333,
              "#000014"
             ],
             [
              0.4444444444444444,
              "#000015"
             ],
             [
              0.5555555555555556,
              "#000016"
             ],
             [
              0.6666666666666666,
              "#000017"
             ],
             [
              0.7777777777777778,
              "#000018"
             ],
             [
              0.8888888888888888,
              "#000019"
             ],
             [
              1,
              "#000020"
             ]
            ],
            "type": "heatmap"
           }
          ],
          "histogram2d": [
           {
            "colorscale": [
             [
              0,
              "#000011"
             ],
             [
              0.1111111111111111,
              "#000012"
             ],
             [
              0.2222222222222222,
              "#000013"
             ],
             [
              0.3333333333333333,
              "#000014"
             ],
             [
              0.4444444444444444,
              "#000015"
             ],
             [
              0.5555555555555556,
              "#000016"
             ],
             [
              0.6666666666666666,
              "#000017"
             ],
             [
              0.7777777777777778,
              "#000018"
             ],
             [
              0.8888888888888888,
              "#000019"
             ],
             [
              1,
              "#000020"
             ]
            ],
            "type": "histogram2d"
           }
          ],
          "icicle": [
           {
            "textfont": {
             "color": "white"
            },
            "type": "icicle"
           }
          ],
          "sankey": [
           {
            "textfont": {
             "color": "#000036"
            },
            "type": "sankey"
           }
          ],
          "scatter": [
           {
            "marker": {
             "line": {
              "width": 0
             }
            },
            "type": "scatter"
           }
          ],
          "table": [
           {
            "cells": {
             "fill": {
              "color": "#000038"
             },
             "font": {
              "color": "#000037"
             },
             "line": {
              "color": "#000039"
             }
            },
            "header": {
             "fill": {
              "color": "#000040"
             },
             "font": {
              "color": "#000036"
             },
             "line": {
              "color": "#000039"
             }
            },
            "type": "table"
           }
          ],
          "waterfall": [
           {
            "connector": {
             "line": {
              "color": "#000036",
              "width": 2
             }
            },
            "decreasing": {
             "marker": {
              "color": "#000033"
             }
            },
            "increasing": {
             "marker": {
              "color": "#000032"
             }
            },
            "totals": {
             "marker": {
              "color": "#000034"
             }
            },
            "type": "waterfall"
           }
          ]
         },
         "layout": {
          "coloraxis": {
           "colorscale": [
            [
             0,
             "#000011"
            ],
            [
             0.1111111111111111,
             "#000012"
            ],
            [
             0.2222222222222222,
             "#000013"
            ],
            [
             0.3333333333333333,
             "#000014"
            ],
            [
             0.4444444444444444,
             "#000015"
            ],
            [
             0.5555555555555556,
             "#000016"
            ],
            [
             0.6666666666666666,
             "#000017"
            ],
            [
             0.7777777777777778,
             "#000018"
            ],
            [
             0.8888888888888888,
             "#000019"
            ],
            [
             1,
             "#000020"
            ]
           ]
          },
          "colorscale": {
           "diverging": [
            [
             0,
             "#000021"
            ],
            [
             0.1,
             "#000022"
            ],
            [
             0.2,
             "#000023"
            ],
            [
             0.3,
             "#000024"
            ],
            [
             0.4,
             "#000025"
            ],
            [
             0.5,
             "#000026"
            ],
            [
             0.6,
             "#000027"
            ],
            [
             0.7,
             "#000028"
            ],
            [
             0.8,
             "#000029"
            ],
            [
             0.9,
             "#000030"
            ],
            [
             1,
             "#000031"
            ]
           ],
           "sequential": [
            [
             0,
             "#000011"
            ],
            [
             0.1111111111111111,
             "#000012"
            ],
            [
             0.2222222222222222,
             "#000013"
            ],
            [
             0.3333333333333333,
             "#000014"
            ],
            [
             0.4444444444444444,
             "#000015"
            ],
            [
             0.5555555555555556,
             "#000016"
            ],
            [
             0.6666666666666666,
             "#000017"
            ],
            [
             0.7777777777777778,
             "#000018"
            ],
            [
             0.8888888888888888,
             "#000019"
            ],
            [
             1,
             "#000020"
            ]
           ],
           "sequentialminus": [
            [
             0,
             "#000011"
            ],
            [
             0.1111111111111111,
             "#000012"
            ],
            [
             0.2222222222222222,
             "#000013"
            ],
            [
             0.3333333333333333,
             "#000014"
            ],
            [
             0.4444444444444444,
             "#000015"
            ],
            [
             0.5555555555555556,
             "#000016"
            ],
            [
             0.6666666666666666,
             "#000017"
            ],
            [
             0.7777777777777778,
             "#000018"
            ],
            [
             0.8888888888888888,
             "#000019"
            ],
            [
             1,
             "#000020"
            ]
           ]
          },
          "colorway": [
           "#000001",
           "#000002",
           "#000003",
           "#000004",
           "#000005",
           "#000006",
           "#000007",
           "#000008",
           "#000009",
           "#000010"
          ]
         }
        },
        "xaxis": {
         "anchor": "y",
         "domain": [
          0,
          1
         ],
         "title": {
          "text": "Month"
         }
        },
        "yaxis": {
         "anchor": "x",
         "domain": [
          0,
          1
         ],
         "title": {
          "text": "Area (ha)"
         }
        }
       }
      }
     },
     "metadata": {},
     "output_type": "display_data"
    }
   ],
   "source": [
    "geemap.jrc_hist_monthly_history(\n",
    "    region=region, scale=30, frequency='month', denominator=1e4, y_label='Area (ha)'\n",
    ")"
   ]
  },
  {
   "cell_type": "code",
   "execution_count": 20,
   "metadata": {},
   "outputs": [
    {
     "data": {
      "application/vnd.plotly.v1+json": {
       "config": {
        "plotlyServerURL": "https://plot.ly"
       },
       "data": [
        {
         "alignmentgroup": "True",
         "hovertemplate": "Month=%{x}<br>Area (ha)=%{y}<extra></extra>",
         "legendgroup": "",
         "marker": {
          "color": "#000001",
          "pattern": {
           "shape": ""
          }
         },
         "name": "",
         "offsetgroup": "",
         "orientation": "v",
         "showlegend": false,
         "textposition": "auto",
         "type": "bar",
         "x": [
          "1984_06",
          "1984_07",
          "1984_08",
          "1984_09",
          "1985_06",
          "1985_07",
          "1985_08",
          "1985_09",
          "1986_06",
          "1986_07",
          "1986_08",
          "1986_09",
          "1987_06",
          "1987_07",
          "1987_08",
          "1987_09",
          "1988_06",
          "1988_07",
          "1988_08",
          "1988_09",
          "1989_06",
          "1989_07",
          "1989_08",
          "1989_09",
          "1990_06",
          "1990_07",
          "1990_08",
          "1990_09",
          "1991_06",
          "1991_07",
          "1991_08",
          "1991_09",
          "1992_06",
          "1992_07",
          "1992_08",
          "1992_09",
          "1993_06",
          "1993_07",
          "1993_08",
          "1993_09",
          "1994_06",
          "1994_07",
          "1994_08",
          "1994_09",
          "1995_06",
          "1995_07",
          "1995_08",
          "1995_09",
          "1996_06",
          "1996_07",
          "1996_08",
          "1996_09",
          "1997_06",
          "1997_07",
          "1997_08",
          "1997_09",
          "1998_06",
          "1998_07",
          "1998_08",
          "1998_09",
          "1999_06",
          "1999_07",
          "1999_08",
          "1999_09",
          "2000_06",
          "2000_07",
          "2000_08",
          "2000_09",
          "2001_06",
          "2001_07",
          "2001_08",
          "2001_09",
          "2002_06",
          "2002_07",
          "2002_08",
          "2002_09",
          "2003_06",
          "2003_07",
          "2003_08",
          "2003_09",
          "2004_06",
          "2004_07",
          "2004_08",
          "2004_09",
          "2005_06",
          "2005_07",
          "2005_08",
          "2005_09",
          "2006_06",
          "2006_07",
          "2006_08",
          "2006_09",
          "2007_06",
          "2007_07",
          "2007_08",
          "2007_09",
          "2008_06",
          "2008_07",
          "2008_08",
          "2008_09",
          "2009_06",
          "2009_07",
          "2009_08",
          "2009_09",
          "2010_06",
          "2010_07",
          "2010_08",
          "2010_09",
          "2011_06",
          "2011_07",
          "2011_08",
          "2011_09",
          "2012_06",
          "2012_07",
          "2012_08",
          "2012_09",
          "2013_06",
          "2013_07",
          "2013_08",
          "2013_09",
          "2014_06",
          "2014_07",
          "2014_08",
          "2014_09",
          "2015_06",
          "2015_07",
          "2015_08",
          "2015_09",
          "2016_06",
          "2016_07",
          "2016_08",
          "2016_09",
          "2017_06",
          "2017_07",
          "2017_08",
          "2017_09",
          "2018_06",
          "2018_07",
          "2018_08",
          "2018_09",
          "2019_06",
          "2019_07",
          "2019_08",
          "2019_09",
          "2020_06",
          "2020_07",
          "2020_08",
          "2020_09",
          "2021_06",
          "2021_07",
          "2021_08",
          "2021_09"
         ],
         "xaxis": "x",
         "y": [
          7977.432458724957,
          7444.101293590075,
          7272.495382471558,
          6996.099384924706,
          0,
          6107.748407294115,
          5423.936729685689,
          4698.856760238151,
          7578.96786536752,
          6885.3142156926715,
          7203.357028118073,
          0,
          8938.13352413209,
          8632.057217727788,
          5760.844867668735,
          4412.342806065216,
          8663.088319544437,
          7783.380107788837,
          7091.131909676513,
          6310.331688210142,
          6444.858863934326,
          5383.7598060203245,
          4743.682400371178,
          5620.492714488177,
          5013.870356736659,
          3837.0306338357404,
          5982.1718301524215,
          5769.8424131104075,
          5639.272199943227,
          5394.062661879123,
          4531.960466262516,
          2526.038957128878,
          3044.891060336843,
          3535.81923042633,
          3893.322494063662,
          4541.936716075794,
          3316.5123830666134,
          6805.211715153425,
          7339.806383715827,
          7747.899121683058,
          10198.42969510992,
          9645.058109124371,
          9042.72220959611,
          10536.96781411684,
          2078.508523578285,
          1873.8888456571444,
          13686.65359514402,
          14078.831593557477,
          15701.827882185782,
          15439.454621914585,
          15390.855213022149,
          15093.318675304416,
          13001.499256135434,
          16744.443559318683,
          16821.454395020897,
          17135.631888987566,
          9982.589204567646,
          16804.342154826096,
          16517.479245152495,
          16445.96274479878,
          15799.11951585404,
          18416.889561657736,
          18323.28236632314,
          19550.08205765285,
          19491.106536337033,
          18859.303460371073,
          19095.436964163542,
          19109.975747530712,
          18550.774129033067,
          19016.256630351098,
          19494.1498250645,
          19629.65153372738,
          18969.09795928411,
          18507.63762512507,
          18311.464806436794,
          18187.477555559955,
          18706.092344754692,
          18184.150175555675,
          16863.922178461755,
          13355.421223122708,
          16916.593144018327,
          16541.34710882505,
          16088.551850286283,
          17441.903745477648,
          17395.615440979913,
          15877.708712292126,
          16762.075378595393,
          16921.918048218402,
          15946.356134389789,
          15627.835491952479,
          14729.545401745661,
          15097.356448739662,
          16093.902806865055,
          15117.284775252452,
          15434.839205397058,
          15970.801502316755,
          15322.724261866308,
          14701.13490696599,
          14701.7968652308,
          14265.918736495538,
          17426.95702880273,
          15724.96182494739,
          15586.984578844862,
          16144.923456649572,
          16873.032543561203,
          16535.317393279976,
          16080.432180501299,
          16806.214567917676,
          18359.10994814124,
          17717.76730229592,
          17414.52186207534,
          18449.67725770458,
          16094.033462830193,
          14338.482145630553,
          16803.9339619046,
          17543.016579996358,
          18983.615298348443,
          18390.064347482607,
          18124.77102624856,
          18355.70558542363,
          6832.227515584732,
          18551.508160430705,
          18055.828827142563,
          18656.81935714108,
          18997.094365549492,
          18068.982936113076,
          18424.89571664851,
          18378.908513811817,
          18107.5881920722,
          17635.685842579478,
          17972.8956203799,
          17924.865341656525,
          18553.51238698583,
          17633.010363788057,
          17657.545216556493,
          17162.99334585369,
          17839.819205281463,
          17140.81437974472,
          16769.844519295562,
          17273.064781024845,
          18342.808876243675,
          17820.90424823562,
          17162.050662943624,
          17489.830848275084,
          20682.620393343124,
          19088.345316907522,
          19569.98578449331,
          19951.82595864952,
          20294.157308131355,
          18425.12146167615,
          18484.97157139768,
          18675.161885177673
         ],
         "yaxis": "y"
        }
       ],
       "layout": {
        "barmode": "relative",
        "legend": {
         "tracegroupgap": 0
        },
        "margin": {
         "t": 60
        },
        "template": {
         "data": {
          "candlestick": [
           {
            "decreasing": {
             "line": {
              "color": "#000033"
             }
            },
            "increasing": {
             "line": {
              "color": "#000032"
             }
            },
            "type": "candlestick"
           }
          ],
          "contour": [
           {
            "colorscale": [
             [
              0,
              "#000011"
             ],
             [
              0.1111111111111111,
              "#000012"
             ],
             [
              0.2222222222222222,
              "#000013"
             ],
             [
              0.3333333333333333,
              "#000014"
             ],
             [
              0.4444444444444444,
              "#000015"
             ],
             [
              0.5555555555555556,
              "#000016"
             ],
             [
              0.6666666666666666,
              "#000017"
             ],
             [
              0.7777777777777778,
              "#000018"
             ],
             [
              0.8888888888888888,
              "#000019"
             ],
             [
              1,
              "#000020"
             ]
            ],
            "type": "contour"
           }
          ],
          "contourcarpet": [
           {
            "colorscale": [
             [
              0,
              "#000011"
             ],
             [
              0.1111111111111111,
              "#000012"
             ],
             [
              0.2222222222222222,
              "#000013"
             ],
             [
              0.3333333333333333,
              "#000014"
             ],
             [
              0.4444444444444444,
              "#000015"
             ],
             [
              0.5555555555555556,
              "#000016"
             ],
             [
              0.6666666666666666,
              "#000017"
             ],
             [
              0.7777777777777778,
              "#000018"
             ],
             [
              0.8888888888888888,
              "#000019"
             ],
             [
              1,
              "#000020"
             ]
            ],
            "type": "contourcarpet"
           }
          ],
          "heatmap": [
           {
            "colorscale": [
             [
              0,
              "#000011"
             ],
             [
              0.1111111111111111,
              "#000012"
             ],
             [
              0.2222222222222222,
              "#000013"
             ],
             [
              0.3333333333333333,
              "#000014"
             ],
             [
              0.4444444444444444,
              "#000015"
             ],
             [
              0.5555555555555556,
              "#000016"
             ],
             [
              0.6666666666666666,
              "#000017"
             ],
             [
              0.7777777777777778,
              "#000018"
             ],
             [
              0.8888888888888888,
              "#000019"
             ],
             [
              1,
              "#000020"
             ]
            ],
            "type": "heatmap"
           }
          ],
          "histogram2d": [
           {
            "colorscale": [
             [
              0,
              "#000011"
             ],
             [
              0.1111111111111111,
              "#000012"
             ],
             [
              0.2222222222222222,
              "#000013"
             ],
             [
              0.3333333333333333,
              "#000014"
             ],
             [
              0.4444444444444444,
              "#000015"
             ],
             [
              0.5555555555555556,
              "#000016"
             ],
             [
              0.6666666666666666,
              "#000017"
             ],
             [
              0.7777777777777778,
              "#000018"
             ],
             [
              0.8888888888888888,
              "#000019"
             ],
             [
              1,
              "#000020"
             ]
            ],
            "type": "histogram2d"
           }
          ],
          "icicle": [
           {
            "textfont": {
             "color": "white"
            },
            "type": "icicle"
           }
          ],
          "sankey": [
           {
            "textfont": {
             "color": "#000036"
            },
            "type": "sankey"
           }
          ],
          "scatter": [
           {
            "marker": {
             "line": {
              "width": 0
             }
            },
            "type": "scatter"
           }
          ],
          "table": [
           {
            "cells": {
             "fill": {
              "color": "#000038"
             },
             "font": {
              "color": "#000037"
             },
             "line": {
              "color": "#000039"
             }
            },
            "header": {
             "fill": {
              "color": "#000040"
             },
             "font": {
              "color": "#000036"
             },
             "line": {
              "color": "#000039"
             }
            },
            "type": "table"
           }
          ],
          "waterfall": [
           {
            "connector": {
             "line": {
              "color": "#000036",
              "width": 2
             }
            },
            "decreasing": {
             "marker": {
              "color": "#000033"
             }
            },
            "increasing": {
             "marker": {
              "color": "#000032"
             }
            },
            "totals": {
             "marker": {
              "color": "#000034"
             }
            },
            "type": "waterfall"
           }
          ]
         },
         "layout": {
          "coloraxis": {
           "colorscale": [
            [
             0,
             "#000011"
            ],
            [
             0.1111111111111111,
             "#000012"
            ],
            [
             0.2222222222222222,
             "#000013"
            ],
            [
             0.3333333333333333,
             "#000014"
            ],
            [
             0.4444444444444444,
             "#000015"
            ],
            [
             0.5555555555555556,
             "#000016"
            ],
            [
             0.6666666666666666,
             "#000017"
            ],
            [
             0.7777777777777778,
             "#000018"
            ],
            [
             0.8888888888888888,
             "#000019"
            ],
            [
             1,
             "#000020"
            ]
           ]
          },
          "colorscale": {
           "diverging": [
            [
             0,
             "#000021"
            ],
            [
             0.1,
             "#000022"
            ],
            [
             0.2,
             "#000023"
            ],
            [
             0.3,
             "#000024"
            ],
            [
             0.4,
             "#000025"
            ],
            [
             0.5,
             "#000026"
            ],
            [
             0.6,
             "#000027"
            ],
            [
             0.7,
             "#000028"
            ],
            [
             0.8,
             "#000029"
            ],
            [
             0.9,
             "#000030"
            ],
            [
             1,
             "#000031"
            ]
           ],
           "sequential": [
            [
             0,
             "#000011"
            ],
            [
             0.1111111111111111,
             "#000012"
            ],
            [
             0.2222222222222222,
             "#000013"
            ],
            [
             0.3333333333333333,
             "#000014"
            ],
            [
             0.4444444444444444,
             "#000015"
            ],
            [
             0.5555555555555556,
             "#000016"
            ],
            [
             0.6666666666666666,
             "#000017"
            ],
            [
             0.7777777777777778,
             "#000018"
            ],
            [
             0.8888888888888888,
             "#000019"
            ],
            [
             1,
             "#000020"
            ]
           ],
           "sequentialminus": [
            [
             0,
             "#000011"
            ],
            [
             0.1111111111111111,
             "#000012"
            ],
            [
             0.2222222222222222,
             "#000013"
            ],
            [
             0.3333333333333333,
             "#000014"
            ],
            [
             0.4444444444444444,
             "#000015"
            ],
            [
             0.5555555555555556,
             "#000016"
            ],
            [
             0.6666666666666666,
             "#000017"
            ],
            [
             0.7777777777777778,
             "#000018"
            ],
            [
             0.8888888888888888,
             "#000019"
            ],
            [
             1,
             "#000020"
            ]
           ]
          },
          "colorway": [
           "#000001",
           "#000002",
           "#000003",
           "#000004",
           "#000005",
           "#000006",
           "#000007",
           "#000008",
           "#000009",
           "#000010"
          ]
         }
        },
        "xaxis": {
         "anchor": "y",
         "domain": [
          0,
          1
         ],
         "title": {
          "text": "Month"
         }
        },
        "yaxis": {
         "anchor": "x",
         "domain": [
          0,
          1
         ],
         "title": {
          "text": "Area (ha)"
         }
        }
       }
      }
     },
     "metadata": {},
     "output_type": "display_data"
    }
   ],
   "source": [
    "geemap.jrc_hist_monthly_history(\n",
    "    region=region,\n",
    "    start_month=6,\n",
    "    end_month=9,\n",
    "    scale=30,\n",
    "    frequency='month',\n",
    "    denominator=1e4,\n",
    "    y_label='Area (ha)',\n",
    ")"
   ]
  }
 ],
 "metadata": {
  "kernelspec": {
   "display_name": "base",
   "language": "python",
   "name": "python3"
  },
  "language_info": {
   "codemirror_mode": {
    "name": "ipython",
    "version": 3
   },
   "file_extension": ".py",
   "mimetype": "text/x-python",
   "name": "python",
   "nbconvert_exporter": "python",
   "pygments_lexer": "ipython3",
   "version": "3.9.13"
  },
  "orig_nbformat": 4
 },
 "nbformat": 4,
 "nbformat_minor": 2
}
